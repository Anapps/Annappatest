{
 "cells": [
  {
   "cell_type": "markdown",
   "id": "6b07cb53-df9f-4e57-b920-6f273e1bfe8b",
   "metadata": {},
   "source": [
    "# Data Science Tools and Ecosystem"
   ]
  },
  {
   "cell_type": "markdown",
   "id": "255c07ff-9cef-47ac-b1ce-5f268ce93208",
   "metadata": {
    "tags": []
   },
   "source": [
    "In this notebook, Data Science Tools and Ecosystem are summarized."
   ]
  },
  {
   "cell_type": "markdown",
   "id": "32376be7-093f-4e9a-8ed8-f88d3f1039f6",
   "metadata": {},
   "source": [
    "## Some of the popular languages that Data Scientists use are:\n",
    "\n",
    "1. **Python**\n",
    "2. **R**\n",
    "3. **SQL**\n",
    "4. **Julia**\n",
    "5. **SAS**\n",
    "6. **Scala**\n",
    "7. **MATLAB**"
   ]
  },
  {
   "cell_type": "markdown",
   "id": "d096cf8c-2ffd-4268-9191-3752e3e9e237",
   "metadata": {},
   "source": [
    "## Some of the commonly used libraries used by Data Scientists include:\n",
    "\n",
    "1. **NumPy** - Numerical computing.\n",
    "2. **Pandas** - Data manipulation and analysis.\n",
    "3. **Matplotlib** - Data visualization.\n",
    "4. **Seaborn** - Statistical data visualization.\n",
    "5. **Scikit-learn** - Machine learning algorithms."
   ]
  },
  {
   "cell_type": "markdown",
   "id": "3500f147-194d-4f41-8d47-a6152c7e8efd",
   "metadata": {},
   "source": [
    "## Data Science Tools\n",
    "\n",
    "| Tool            | Description                                  | Language Support |\n",
    "|-----------------|----------------------------------------------|------------------|\n",
    "| Jupyter Notebook | Interactive computing environment            | Python, R, Julia |\n",
    "| RStudio         | Integrated development environment for R      | R, Python        |\n",
    "| Apache Hadoop   | Distributed storage and processing of big data| Java, Python, R  |"
   ]
  },
  {
   "cell_type": "markdown",
   "id": "27cdf9f8-62d7-4080-a44c-7a28cd6fcf1a",
   "metadata": {},
   "source": [
    "### Below are a few examples of evaluating arithmetic expressions in Python"
   ]
  },
  {
   "cell_type": "code",
   "execution_count": 4,
   "id": "a9a72e13-e639-482b-91c7-1c1f202c7554",
   "metadata": {
    "tags": []
   },
   "outputs": [
    {
     "data": {
      "text/plain": [
       "17"
      ]
     },
     "execution_count": 4,
     "metadata": {},
     "output_type": "execute_result"
    }
   ],
   "source": [
    "#This a simple arithmetic expression to mutiply then add integers\n",
    "(3*4)+5"
   ]
  },
  {
   "cell_type": "code",
   "execution_count": 5,
   "id": "51e1a85e-4243-4a11-b94f-e6378275336a",
   "metadata": {
    "tags": []
   },
   "outputs": [
    {
     "name": "stdout",
     "output_type": "stream",
     "text": [
      "200 minutes is equal to 3.3333333333333335 hours.\n"
     ]
    }
   ],
   "source": [
    "# This will convert 200 minutes to hours by diving by 60\n",
    "def minutes_to_hours(minutes):\n",
    "    hours = minutes / 60\n",
    "    return hours\n",
    "\n",
    "minutes = 200\n",
    "hours = minutes_to_hours(minutes)\n",
    "print(f\"{minutes} minutes is equal to {hours} hours.\")\n"
   ]
  },
  {
   "cell_type": "markdown",
   "id": "05894e74-0762-4fce-8e94-cf09cbd5998f",
   "metadata": {},
   "source": [
    "## Objectives:\n",
    "\n",
    "1. **Able to write python code**\n",
    "2. **Basic understanding of python**\n",
    "3. **Python IDE interface**\n",
    "4. **Avaible options in python editor**"
   ]
  },
  {
   "cell_type": "markdown",
   "id": "07bdec3a-8557-4948-b401-25fa640b7370",
   "metadata": {},
   "source": [
    "## Author\n",
    "\n",
    "Annappa DM"
   ]
  }
 ],
 "metadata": {
  "kernelspec": {
   "display_name": "Python 3 (ipykernel)",
   "language": "python",
   "name": "python3"
  },
  "language_info": {
   "codemirror_mode": {
    "name": "ipython",
    "version": 3
   },
   "file_extension": ".py",
   "mimetype": "text/x-python",
   "name": "python",
   "nbconvert_exporter": "python",
   "pygments_lexer": "ipython3",
   "version": "3.11.9"
  }
 },
 "nbformat": 4,
 "nbformat_minor": 5
}
